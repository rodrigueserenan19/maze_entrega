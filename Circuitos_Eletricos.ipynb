{
  "nbformat": 4,
  "nbformat_minor": 0,
  "metadata": {
    "colab": {
      "provenance": [],
      "include_colab_link": true
    },
    "kernelspec": {
      "name": "python3",
      "display_name": "Python 3"
    },
    "language_info": {
      "name": "python"
    }
  },
  "cells": [
    {
      "cell_type": "markdown",
      "metadata": {
        "id": "view-in-github",
        "colab_type": "text"
      },
      "source": [
        "<a href=\"https://colab.research.google.com/github/rodrigueserenan19/maze_entrega/blob/main/Circuitos_Eletricos.ipynb\" target=\"_parent\"><img src=\"https://colab.research.google.com/assets/colab-badge.svg\" alt=\"Open In Colab\"/></a>"
      ]
    },
    {
      "cell_type": "markdown",
      "source": [
        "# Variáveis de Circuitos\n",
        "\n",
        "# Elementos de Circuitos\n",
        "\n",
        "Lei de Ohm\n",
        "\n",
        "$v = Ri$\n",
        "\n",
        "Potência dissipada em um componente genérico\n",
        "\n",
        "$p = vi$\n",
        "\n",
        "Potência dissipada em um resistor\n",
        "\n",
        "$p = vi = Ri^2 = \\frac{v^2}{R}$"
      ],
      "metadata": {
        "id": "iu_xgDTvhkLa"
      }
    },
    {
      "cell_type": "markdown",
      "source": [
        "## Exemplo 1.1\n",
        "\n",
        "![](https://drive.google.com/uc?export=view&id=1zd3x5cbGRqCAsxey71Y4BWVuPczrOoyC)\n",
        "\n",
        "\n",
        "Lei das correntes em um nó\n",
        "\n",
        "$-i_0 + i_1 - 6 = 0$\n",
        "\n",
        "Lei das tensões em uma malha\n",
        "\n",
        "$-120 + 10i_0 + 50i_1 = 0$\n"
      ],
      "metadata": {
        "id": "Pahj4XmfjP70"
      }
    },
    {
      "cell_type": "code",
      "execution_count": null,
      "metadata": {
        "colab": {
          "base_uri": "https://localhost:8080/"
        },
        "id": "CdBKZWDvhgf6",
        "outputId": "ae302fbd-2f4c-4a0c-83b9-885515caa12d"
      },
      "outputs": [
        {
          "output_type": "stream",
          "name": "stdout",
          "text": [
            "[[-3.]\n",
            " [ 3.]]\n",
            "i0 = -3.0 A\n",
            "i1 = 3.0 A\n",
            "v1 = 150.0 V\n",
            "P_120V = 360.0 W\n",
            "P_10Ohms = 90.0 W\n",
            "P_50Ohms = 450.0 W\n",
            "P_6A = -900.0 W\n",
            "P_120V+P_10Ohms+P_50Ohms+P_6A = 0.0 W\n"
          ]
        }
      ],
      "source": [
        "import numpy as np\n",
        "\n",
        "A = np.array([[-1, 1],[10, 50]])\n",
        "b = np.array([[6],[120]])\n",
        "\n",
        "i = np.matmul(np.linalg.inv(A), b)\n",
        "\n",
        "i0 = np.round(i[0][0], decimals=2)\n",
        "i1 = np.round(i[1][0], decimals=2)\n",
        "v1 = np.round(50*i1, decimals=2)   # v=Ri\n",
        "P_120V = -120*i0        # p=vi\n",
        "P_10Ohms = 10*(i0**2)   # p=R*i^2\n",
        "P_50Ohms = 50*(i1**2)   # p=R*i^2\n",
        "P_6A = -v1*6            # p=vi\n",
        "\n",
        "print(i)\n",
        "print('i0 = ' + str(i0) + ' A')\n",
        "print('i1 = ' + str(i1) + ' A')\n",
        "print('v1 = ' + str(v1) + ' V')\n",
        "print('P_120V = ' + str(P_120V) + ' W')\n",
        "print('P_10Ohms = ' + str(P_10Ohms) + ' W')\n",
        "print('P_50Ohms = ' + str(P_50Ohms) + ' W')\n",
        "print('P_6A = ' + str(P_6A) + ' W')\n",
        "print('P_120V+P_10Ohms+P_50Ohms+P_6A = ' + str(P_120V+P_10Ohms+P_50Ohms+P_6A) + ' W')\n"
      ]
    },
    {
      "cell_type": "markdown",
      "source": [
        "## Exercício 1.1\n",
        "\n",
        "![](https://drive.google.com/uc?export=view&id=1HdBY6Achmkd4Hc1LukSanKZM7VCKjuMA)\n",
        "\n",
        "Lei das correntes em um nó\n",
        "\n",
        "$-i_0 + i_1 - 6 = 0$\n",
        "\n",
        "Lei das tensões em uma malha\n",
        "\n",
        "$-120 + 50i_0 + 10i_1 = 0$"
      ],
      "metadata": {
        "id": "iN2f5kE5uXDx"
      }
    },
    {
      "cell_type": "code",
      "source": [
        "import numpy as np\n",
        "\n",
        "A = np.array([[-1, 1],[50, 10]])\n",
        "b = np.array([[6],[120]])\n",
        "\n",
        "i = np.matmul(np.linalg.inv(A), b)\n",
        "\n",
        "i0 = np.round(i[0][0], decimals=2)\n",
        "i1 = np.round(i[1][0], decimals=2)\n",
        "v1 = np.round(10*i1, decimals=2)   # v=Ri\n",
        "P_120V = -120*i0        # p=vi\n",
        "P_50Ohms = 50*(i0**2)   # p=R*i^2\n",
        "P_10Ohms = 10*(i1**2)   # p=R*i^2\n",
        "P_6A = -v1*6            # p=vi\n",
        "\n",
        "print(i)\n",
        "print('i0 = ' + str(i0) + ' A')\n",
        "print('i1 = ' + str(i1) + ' A')\n",
        "print('v1 = ' + str(v1) + ' V')\n",
        "print('P_120V = ' + str(P_120V) + ' W')\n",
        "print('P_50Ohms = ' + str(P_50Ohms) + ' W')\n",
        "print('P_10Ohms = ' + str(P_10Ohms) + ' W')\n",
        "print('P_6A = ' + str(P_6A) + ' W')\n",
        "print('P_120V+P_50Ohms+P_10Ohms+P_6A = ' + str(P_120V+P_50Ohms+P_10Ohms+P_6A) + ' W')\n"
      ],
      "metadata": {
        "colab": {
          "base_uri": "https://localhost:8080/"
        },
        "id": "ybHd7dHPuXmz",
        "outputId": "62ecb8c8-c4c6-4498-a3d6-952e8ffd78c3"
      },
      "execution_count": null,
      "outputs": [
        {
          "output_type": "stream",
          "name": "stdout",
          "text": [
            "[[1.]\n",
            " [7.]]\n",
            "i0 = 1.0 A\n",
            "i1 = 7.0 A\n",
            "v1 = 70.0 V\n",
            "P_120V = -120.0 W\n",
            "P_50Ohms = 50.0 W\n",
            "P_10Ohms = 490.0 W\n",
            "P_6A = -420.0 W\n",
            "P_120V+P_50Ohms+P_10Ohms+P_6A = 0.0 W\n"
          ]
        }
      ]
    },
    {
      "cell_type": "markdown",
      "source": [
        "## Exemplo 1.2\n",
        "\n",
        "![](https://drive.google.com/uc?export=view&id=1qz4ka9p4oX4pjrqtzCpkxreXsXfPBy77)\n",
        "\n",
        "Lei das correntes em um nó\n",
        "\n",
        "$-i_Δ + i_1 - 5i_Δ = 0$\n",
        "\n",
        "Lei das tensões em uma malha\n",
        "\n",
        "$-500 + 5i_Δ + 20i_1 = 0$\n"
      ],
      "metadata": {
        "id": "zOoK33VHEcJV"
      }
    },
    {
      "cell_type": "code",
      "source": [
        "import numpy as np\n",
        "\n",
        "A = np.array([[-6, 1],[5, 20]])\n",
        "b = np.array([[0],[500]])\n",
        "\n",
        "i = np.matmul(np.linalg.inv(A), b)\n",
        "\n",
        "print(i)\n",
        "print('id = ' + str(np.round(i[0][0], decimals=2)) + ' A')\n",
        "print('i1 = ' + str(np.round(i[1][0], decimals=2)) + ' A')\n"
      ],
      "metadata": {
        "colab": {
          "base_uri": "https://localhost:8080/"
        },
        "id": "BWQ_4ObzEuz2",
        "outputId": "35787946-463f-4279-ee0a-526980d8ecb4"
      },
      "execution_count": null,
      "outputs": [
        {
          "output_type": "stream",
          "name": "stdout",
          "text": [
            "[[ 4.]\n",
            " [24.]]\n",
            "id = 4.0 A\n",
            "i1 = 24.0 A\n"
          ]
        }
      ]
    },
    {
      "cell_type": "markdown",
      "source": [
        "## Exercício 1.2\n",
        "\n",
        "![](https://drive.google.com/uc?export=view&id=1rhNDi1D4_-U38im7L0AEgg5Z9xiL7zLi)\n",
        "\n",
        "Lei das correntes em um nó\n",
        "\n",
        "$-i_Δ + i_1 - 5i_Δ = 0$\n",
        "\n",
        "Lei das tensões em uma malha\n",
        "\n",
        "$-500 + 20i_Δ + 5i_1 = 0$"
      ],
      "metadata": {
        "id": "w-eHl49SzIk2"
      }
    },
    {
      "cell_type": "code",
      "source": [
        "import numpy as np\n",
        "\n",
        "A = np.array([[-6, 1],[20, 5]])\n",
        "b = np.array([[0],[500]])\n",
        "\n",
        "i = np.matmul(np.linalg.inv(A), b)\n",
        "\n",
        "id = np.round(i[0][0], decimals=2)\n",
        "i1 = np.round(i[1][0], decimals=2)\n",
        "P_500V = -id*500          # P=vi\n",
        "P_20Ohms = 20*(id**2)     # P=Ri^2\n",
        "P_5Ohms = 5*(i1**2)       # P=Ri^2\n",
        "P_5id = -(5*id)*(5*i1)    # P=vi\n",
        "\n",
        "print(i)\n",
        "print('id = ' + str(id) + ' A')\n",
        "print('i1 = ' + str(i1) + ' A')\n",
        "print('P_500V = ' + str(P_500V) + ' W')\n",
        "print('P_20Ohms = ' + str(P_20Ohms) + ' W')\n",
        "print('P_5Ohms = ' + str(P_5Ohms) + ' W')\n",
        "print('P_5id = ' + str(P_5id) + ' W')\n",
        "print('P_500V+P_20Ohms+P_5Ohms+P_5id = ' + str(P_500V+P_20Ohms+P_5Ohms+P_5id) + ' W')\n"
      ],
      "metadata": {
        "colab": {
          "base_uri": "https://localhost:8080/"
        },
        "id": "QXuacnQHFqVI",
        "outputId": "50f13bad-6ce3-4f5b-88cc-f03aba5e51aa"
      },
      "execution_count": null,
      "outputs": [
        {
          "output_type": "stream",
          "name": "stdout",
          "text": [
            "[[10.]\n",
            " [60.]]\n",
            "id = 10.0 A\n",
            "i1 = 60.0 A\n",
            "P_500V = -5000.0 W\n",
            "P_20Ohms = 2000.0 W\n",
            "P_5Ohms = 18000.0 W\n",
            "P_5id = -15000.0 W\n",
            "P_500V+P_20Ohms+P_5Ohms+P_5id = 0.0 W\n"
          ]
        }
      ]
    },
    {
      "cell_type": "markdown",
      "source": [
        "## Exemplo 1.3\n",
        "\n",
        "Tensão sem carga\n",
        "\n",
        "$v_0 = 200V \\frac{75k\\Omega}{75k\\Omega + 25k\\Omega} = 150V$\n",
        "\n",
        "Tensão com carga\n",
        "\n",
        "*   Resistência Equivalente Paralelo $R_p = \\frac{75k\\Omega \\cdot 150k\\Omega}{75k\\Omega + 150k\\Omega} = 50k\\Omega$\n",
        "\n",
        "$v_0 = 200V \\frac{50k\\Omega}{50k\\Omega + 25k\\Omega} = 133.34V$\n",
        "\n",
        "Corrente de curto-circuito\n",
        "\n",
        "$i_{short} = \\frac{200V}{25k\\Omega} = 8mA$\n",
        "\n",
        "Potência da fonte em curto-circuito de carga\n",
        "\n",
        "$P = 200V \\cdot (-8mA) = -1.6W$"
      ],
      "metadata": {
        "id": "neiVzpVjV4uk"
      }
    },
    {
      "cell_type": "markdown",
      "source": [
        "## Exercício 1.3\n",
        "\n",
        "Tensão sem carga\n",
        "\n",
        "$v_0 = 10V \\frac{3.3k\\Omega}{3.3k\\Omega + 1k\\Omega} = 7.67V$\n",
        "\n",
        "Tensão com carga\n",
        "\n",
        "*   Resistência Equivalente Paralelo $R_p = \\frac{3.3k\\Omega \\cdot 1k\\Omega}{3.3k\\Omega + 1k\\Omega} = 767\\Omega$\n",
        "\n",
        "$v_0 = 10V \\frac{767\\Omega}{767\\Omega + 1k\\Omega} = 4.34V$\n",
        "\n",
        "Corrente de curto-circuito\n",
        "\n",
        "$i_{short} = \\frac{10V}{1k\\Omega} = 10mA$\n",
        "\n",
        "Potência da fonte em curto-circuito de carga\n",
        "\n",
        "$P = 10V \\cdot (-10mA) = -0.1W$"
      ],
      "metadata": {
        "id": "EiESfZTqspJs"
      }
    },
    {
      "cell_type": "markdown",
      "source": [
        "## Exemplo 1.4\n",
        "\n",
        "Lei das correntes no nó 1 (superior, esquerda)\n",
        "\n",
        "$\\frac{v_1 - 10V}{1\\Omega} + \\frac{v_1 - 0V}{2\\Omega} + \\frac{v_1 - v_2}{2\\Omega} = 0$\n",
        "\n",
        "$4v_1 - v_2 = 20$\n",
        "\n",
        "Lei das correntes no nó 2 (superior, direita)\n",
        "\n",
        "$\\frac{v_2 - v_1}{2\\Omega} + \\frac{v_2 - 0V}{1\\Omega} - 2A = 0$\n",
        "\n",
        "$-v_1 + 3v_2 = 4$"
      ],
      "metadata": {
        "id": "p-uNhp-Cyjuv"
      }
    },
    {
      "cell_type": "code",
      "source": [
        "import numpy as np\n",
        "\n",
        "A = np.array([[4, -1],[-1, 3]])\n",
        "b = np.array([[20],[4]])\n",
        "\n",
        "v = np.matmul(np.linalg.inv(A), b)\n",
        "\n",
        "v1 = np.round(v[0][0], decimals=2)\n",
        "v2 = np.round(v[1][0], decimals=2)\n",
        "i_10V = np.round((10-v1)/1, decimals=2)\n",
        "v_1A = np.round(v2, decimals=2)\n",
        "\n",
        "P_R1 = np.round((10-v1)**2 / 1, decimals=2)    # P=v^2/R\n",
        "P_R2 = np.round((v1)**2 / 2, decimals=2)       # P=v^2/R\n",
        "P_R3 = np.round((v1-v2)**2 / 2, decimals=2)     # P=v^2/R\n",
        "P_R4 = np.round((v2)**2 / 1, decimals=2)        # P=v^2/R\n",
        "\n",
        "print(v)\n",
        "print('v1 = ' + str(v1) + ' V')\n",
        "print('v2 = ' + str(v2) + ' V')\n",
        "print('P_R1 = ' + str(P_R1) + ' W')\n",
        "print('P_R2 = ' + str(P_R2) + ' W')\n",
        "print('P_R3 = ' + str(P_R3) + ' W')\n",
        "print('P_R4 = ' + str(P_R4) + ' W')\n",
        "print('i_10V = ' + str(i_10V) + ' A')\n",
        "print('v_1A = ' + str(v_1A) + ' V')"
      ],
      "metadata": {
        "colab": {
          "base_uri": "https://localhost:8080/"
        },
        "id": "AIc_apmizISy",
        "outputId": "0d54b813-51e8-495b-f9ae-f181fb0c73eb"
      },
      "execution_count": null,
      "outputs": [
        {
          "output_type": "stream",
          "name": "stdout",
          "text": [
            "[[5.81818182]\n",
            " [3.27272727]]\n",
            "v1 = 5.82 V\n",
            "v2 = 3.27 V\n",
            "P_R1 = 17.47 W\n",
            "P_R2 = 16.94 W\n",
            "P_R3 = 3.25 W\n",
            "P_R4 = 10.69 W\n",
            "i_10V = 4.18 A\n",
            "v_1A = 3.27 V\n"
          ]
        }
      ]
    },
    {
      "cell_type": "markdown",
      "source": [
        "## Exemplo 1.4 (terra em cima)\n",
        "\n",
        "$i_x + \\frac{v_1}{1} = 0$\n",
        "\n",
        "$-ix + \\frac{v_2}{2} + \\frac{(v_2 - v_3)}{1} + 2 = 0$\n",
        "\n",
        "$\\frac{v_3}{2} + \\frac{(v_3-v_2)}{1} - 2 = 0$\n",
        "\n",
        "$v_2 - v_1 = -10$\n",
        "\n",
        "Reduzindo,\n",
        "\n",
        "$\\frac{v_2}{2} + \\frac{(v_2 - v_3)}{1} + 2 + \\frac{v_1}{1} = 0$\n",
        "\n",
        "$\\frac{v_3}{2} + \\frac{(v_3-v_2)}{1} - 2 = 0$\n",
        "\n",
        "$v_2 - v_1 = -10$\n",
        "\n",
        "Finalmente,\n",
        "\n",
        "$2v_1 + 3v_2 - 2v_3 = -4$\n",
        "\n",
        "$-2v_2 + 3v_3 = 4$\n",
        "\n",
        "$-v_1 + v_2 = -10$"
      ],
      "metadata": {
        "id": "BF0l_0a7bLCx"
      }
    },
    {
      "cell_type": "code",
      "source": [
        "import numpy as np\n",
        "\n",
        "A = np.array([[2, 3, -2],[0, -2, 3],[-1, 1, 0]])\n",
        "b = np.array([[-4],[4],[-10]])\n",
        "\n",
        "v = np.matmul(np.linalg.inv(A),b)\n",
        "\n",
        "v1 = np.round(v[0][0], decimals=2)\n",
        "v2 = np.round(v[1][0], decimals=2)\n",
        "v3 = np.round(v[2][0], decimals=2)\n",
        "\n",
        "P_R1 = np.round((v1)**2 / 1, decimals=2)    # P=v^2/R\n",
        "P_R2 = np.round((v2)**2 / 2, decimals=2)       # P=v^2/R\n",
        "P_R3 = np.round((v3)**2 / 2, decimals=2)      # P=v^2/R\n",
        "P_R4 = np.round((v2-v3)**2 / 1, decimals=2)       # P=v^2/R\n",
        "i_10V = np.round(v1/1, decimals=2)\n",
        "v_1A = np.round(v3 - v2, decimals=2)\n",
        "\n",
        "\n",
        "print('v1 = '+str(v1)+' V')\n",
        "print('v2 = '+str(v2)+' V')\n",
        "print('v3 = '+str(v3)+' V')\n",
        "print('P_R1 = ' + str(P_R1) + ' W')\n",
        "print('P_R2 = ' + str(P_R2) + ' W')\n",
        "print('P_R3 = ' + str(P_R3) + ' W')\n",
        "print('P_R4 = ' + str(P_R4) + ' W')\n",
        "print('i_10V = ' + str(i_10V) + ' A')\n",
        "print('v_1A = ' + str(v_1A) + ' V')"
      ],
      "metadata": {
        "colab": {
          "base_uri": "https://localhost:8080/"
        },
        "id": "RGXnJzh5bXQ3",
        "outputId": "88c7ace3-6e72-4f88-ae83-17d6fbf670ae"
      },
      "execution_count": null,
      "outputs": [
        {
          "output_type": "stream",
          "name": "stdout",
          "text": [
            "v1 = 4.18 V\n",
            "v2 = -5.82 V\n",
            "v3 = -2.55 V\n",
            "P_R1 = 17.47 W\n",
            "P_R2 = 16.94 W\n",
            "P_R3 = 3.25 W\n",
            "P_R4 = 10.69 W\n",
            "i_10V = 4.18 A\n",
            "v_1A = 3.27 V\n"
          ]
        }
      ]
    },
    {
      "cell_type": "markdown",
      "source": [
        "## Exercício 1.4\n",
        "\n",
        "Lei das correntes no nó 1 (superior, esquerda)\n",
        "\n",
        "$\\frac{v_1 - 1V}{1\\Omega} + \\frac{v_1 - 0V}{1\\Omega} + \\frac{v_1 - v_2}{1\\Omega} = 0$\n",
        "\n",
        "$3v_1 - v_2 = 1$\n",
        "\n",
        "Lei das correntes no nó 2 (superior, direita)\n",
        "\n",
        "$\\frac{v_2 - v_1}{1\\Omega} + \\frac{v_2 - 0V}{1\\Omega} - 1A = 0$\n",
        "\n",
        "$-v_1 + 2v_2 = 1$"
      ],
      "metadata": {
        "id": "ObzvLbO_ghg2"
      }
    },
    {
      "cell_type": "code",
      "source": [
        "import numpy as np\n",
        "\n",
        "A = np.array([[3, -1],[-1, 2]])\n",
        "b = np.array([[1],[1]])\n",
        "\n",
        "v = np.matmul(np.linalg.inv(A), b)\n",
        "\n",
        "v1 = np.round(v[0][0], decimals=2)\n",
        "v2 = np.round(v[1][0], decimals=2)\n",
        "i_1V = np.round((1-v1)/1, decimals=2)\n",
        "v_1A = v2\n",
        "\n",
        "P_R1 = np.round((1-v1)**2 / 1, decimals=2)    # P=v^2/R\n",
        "P_R2 = np.round((v1)**2 / 1, decimals=2)       # P=v^2/R\n",
        "P_R3 = np.round((v1-v2)**2 / 1, decimals=2)     # P=v^2/R\n",
        "P_R4 = np.round((v2)**2 / 1, decimals=2)        # P=v^2/R\n",
        "\n",
        "print(v)\n",
        "print('v1 = ' + str(v1) + ' V')\n",
        "print('v2 = ' + str(v2) + ' V')\n",
        "print('P_R1 = ' + str(P_R1) + ' W')\n",
        "print('P_R2 = ' + str(P_R2) + ' W')\n",
        "print('P_R3 = ' + str(P_R3) + ' W')\n",
        "print('P_R4 = ' + str(P_R4) + ' W')\n",
        "print('i_1V = ' + str(i_1V) + ' A')\n",
        "print('v_1A = ' + str(v_1A) + ' V')"
      ],
      "metadata": {
        "colab": {
          "base_uri": "https://localhost:8080/"
        },
        "id": "UpMYgvJWg-N7",
        "outputId": "199e0171-5dc3-438d-cf83-4ba7bd544112"
      },
      "execution_count": null,
      "outputs": [
        {
          "output_type": "stream",
          "name": "stdout",
          "text": [
            "[[0.6]\n",
            " [0.8]]\n",
            "v1 = 0.6 V\n",
            "v2 = 0.8 V\n",
            "P_R1 = 0.16 W\n",
            "P_R2 = 0.36 W\n",
            "P_R3 = 0.04 W\n",
            "P_R4 = 0.64 W\n",
            "i_1V = 0.4 A\n",
            "v_1A = 0.8 V\n"
          ]
        }
      ]
    },
    {
      "cell_type": "markdown",
      "source": [
        "## Exemplo com fonte dependente\n",
        "\n",
        "$\\frac{(v_1-20)}{2} + \\frac{v_1}{20} + \\frac{(v_1-v_2)}{5} = 0$\n",
        "\n",
        "$\\frac{(v_2-v_1)}{5} + \\frac{v_2}{10} + \\frac{(v_2-8i_{ph})}{2} = 0$\n",
        "\n",
        "$\\frac{(v_1-v_2)}{5} = i_{ph}$\n"
      ],
      "metadata": {
        "id": "TXxrTTNewqoY"
      }
    },
    {
      "cell_type": "code",
      "source": [
        "import numpy as np\n",
        "\n",
        "A = np.array([[15, -4],[-5, 8]])\n",
        "b = np.array([[200],[0]])\n",
        "\n",
        "v = np.matmul(np.linalg.inv(A), b)\n",
        "\n",
        "v1 = np.round(v[0][0], decimals=2)\n",
        "v2 = np.round(v[1][0], decimals=2)\n",
        "\n",
        "P_5Ohms = np.round((v1-v2)**2 / 5, decimals=2) # P=v^2/R\n",
        "\n",
        "print(v)\n",
        "print('v1 = ' + str(v1) + ' V')\n",
        "print('v2 = ' + str(v2) + ' V')\n",
        "print('P_5Ohms = ' + str(P_5Ohms) + ' W')"
      ],
      "metadata": {
        "colab": {
          "base_uri": "https://localhost:8080/"
        },
        "id": "Q6VCAQYT2arU",
        "outputId": "6b775501-276c-427c-c587-1e9308547fcf"
      },
      "execution_count": null,
      "outputs": [
        {
          "output_type": "stream",
          "name": "stdout",
          "text": [
            "[[16.]\n",
            " [10.]]\n",
            "v1 = 16.0 V\n",
            "v2 = 10.0 V\n",
            "P_5Ohms = 7.2 W\n"
          ]
        }
      ]
    },
    {
      "cell_type": "markdown",
      "source": [
        "## Exemplo com fonte dependente entre nós\n",
        "\n",
        "$\\frac{(v_1 - 50) }{5} + \\frac{v_1}{50} + i_x = 0$\n",
        "\n",
        "$-i_x + \\frac{v_2}{100} - 4 = 0$\n",
        "\n",
        "$\\frac{(v_1 - 50)}{5} = i_{ph}$\n",
        "\n",
        "$v_2 - v_1 = 10i_{ph}$"
      ],
      "metadata": {
        "id": "QbMUtIN38VVd"
      }
    },
    {
      "cell_type": "code",
      "source": [
        "import numpy as np\n",
        "\n",
        "A = np.array([[22, 1],[3, -1]])\n",
        "b = np.array([[1400],[100]])\n",
        "\n",
        "v = np.matmul(np.linalg.inv(A), b)\n",
        "\n",
        "v1 = np.round(v[0][0], decimals=2)\n",
        "v2 = np.round(v[1][0], decimals=2)\n",
        "\n",
        "print(v)\n",
        "print('v1 = ' + str(v1) + ' V')\n",
        "print('v2 = ' + str(v2) + ' V')\n"
      ],
      "metadata": {
        "colab": {
          "base_uri": "https://localhost:8080/"
        },
        "id": "NSwF2Soe82TX",
        "outputId": "5c912f6c-8bf9-44fb-add6-f0de4f4d59b0"
      },
      "execution_count": null,
      "outputs": [
        {
          "output_type": "stream",
          "name": "stdout",
          "text": [
            "[[60.]\n",
            " [80.]]\n",
            "v1 = 60.0 V\n",
            "v2 = 80.0 V\n"
          ]
        }
      ]
    },
    {
      "cell_type": "markdown",
      "source": [
        "## Exemplo 1.5\n",
        "\n",
        "$-10 + 2i_a + 1(i_a-i_b) = 0$\n",
        "\n",
        "$1(i_b-i_a) + 2i_b + 8 = 0$"
      ],
      "metadata": {
        "id": "tCNm4QL-C-pM"
      }
    },
    {
      "cell_type": "code",
      "source": [
        "import numpy as np\n",
        "\n",
        "A = np.array([[3, -1],[-1, 3]])\n",
        "b = np.array([[10],[-8]])\n",
        "\n",
        "i = np.matmul(np.linalg.inv(A), b)\n",
        "\n",
        "ia = np.round(i[0][0], decimals=2)\n",
        "ib = np.round(i[1][0], decimals=2)\n",
        "\n",
        "P_10V = 10*(-ia)    # P=vi\n",
        "P_8V = 8*ib         # P=vi\n",
        "\n",
        "print(i)\n",
        "print('ia = ' + str(ia) + ' A')\n",
        "print('ib = ' + str(ib) + ' A')\n",
        "print('P_10V = ' + str(P_10V) + ' W')\n",
        "print('P_8V = ' + str(P_8V) + ' W')"
      ],
      "metadata": {
        "colab": {
          "base_uri": "https://localhost:8080/"
        },
        "id": "OIhqCailDUab",
        "outputId": "425f796d-4835-404f-e889-9e17a4282931"
      },
      "execution_count": null,
      "outputs": [
        {
          "output_type": "stream",
          "name": "stdout",
          "text": [
            "[[ 2.75]\n",
            " [-1.75]]\n",
            "ia = 2.75 A\n",
            "ib = -1.75 A\n",
            "P_10V = -27.5 W\n",
            "P_8V = -14.0 W\n"
          ]
        }
      ]
    },
    {
      "cell_type": "markdown",
      "source": [
        "## Exercício 1.5\n",
        "\n",
        "$-10 + i_a + 10(i_a-i_b) = 0$\n",
        "\n",
        "$10(i_b-i_a) + 1i_b + 8 = 0$"
      ],
      "metadata": {
        "id": "AxvKm8C8GDEY"
      }
    },
    {
      "cell_type": "code",
      "source": [
        "import numpy as np\n",
        "\n",
        "A = np.array([[11, -10],[-10, 11]])\n",
        "b = np.array([[10],[-8]])\n",
        "\n",
        "i = np.matmul(np.linalg.inv(A), b)\n",
        "\n",
        "ia = np.round(i[0][0], decimals=2)\n",
        "ib = np.round(i[1][0], decimals=2)\n",
        "\n",
        "P_10V = np.round(10*(-ia), decimals=2)    # P=vi\n",
        "P_8V = np.round(8*ib, decimals=2)         # P=vi\n",
        "\n",
        "print(i)\n",
        "print('ia = ' + str(ia) + ' A')\n",
        "print('ib = ' + str(ib) + ' A')\n",
        "print('P_10V = ' + str(P_10V) + ' W')\n",
        "print('P_8V = ' + str(P_8V) + ' W')"
      ],
      "metadata": {
        "colab": {
          "base_uri": "https://localhost:8080/"
        },
        "id": "0fkajNuAGN1D",
        "outputId": "677f6a97-1f4a-4876-9292-3f1171a598c1"
      },
      "execution_count": null,
      "outputs": [
        {
          "output_type": "stream",
          "name": "stdout",
          "text": [
            "[[1.42857143]\n",
            " [0.57142857]]\n",
            "ia = 1.43 A\n",
            "ib = 0.57 A\n",
            "P_10V = -14.3 W\n",
            "P_8V = 4.56 W\n"
          ]
        }
      ]
    },
    {
      "cell_type": "markdown",
      "source": [
        "## Exemplo com fonte dependente\n",
        "\n",
        "$\\frac{(v_x - 50)}{5} + \\frac{v_x}{20} + \\frac{(v_x-15i_{ph})}{4} = 0$\n",
        "\n",
        "$\\frac{v_x}{20} = i_{ph}$\n",
        "\n",
        "$v_x = 20V$\n",
        "\n",
        "$i_{ph} = \\frac{20V}{20\\Omega} = 1 A$\n",
        "\n",
        "$P_{4\\Omega} = \\frac{(20V-15V)^2}{4\\Omega} = 6.25W$"
      ],
      "metadata": {
        "id": "W_3WCdw45S1m"
      }
    },
    {
      "cell_type": "markdown",
      "source": [
        "## Exemplo com fonte de corrente\n",
        "\n",
        "$-100 + 3(i_a - i_b) + v + 6i_a = 0$\n",
        "\n",
        "$-v + 2(i_c - i_b) + 50 + 4i_c = 0$\n",
        "\n",
        "$3(i_a - i_b) + 2(i_c - i_b) - 10i_b = 0$\n",
        "\n",
        "$i_c - i_a = 5$\n",
        "\n",
        "Simplificando,\n",
        "\n",
        "$9i_a - 5i_b + 6i_c = 50$\n",
        "\n",
        "$3i_a - 15i_b + 2i_c = 0$\n",
        "\n",
        "$- i_a + i_c = 5$\n"
      ],
      "metadata": {
        "id": "J4B2Zlin7F9O"
      }
    },
    {
      "cell_type": "code",
      "source": [
        "import numpy as np\n",
        "\n",
        "A = np.array([[9, -5, 6],[3, -15, 2],[-1, 0, 1]])\n",
        "b = np.array([[50],[0],[5]])\n",
        "\n",
        "i = np.matmul(np.linalg.inv(A), b)\n",
        "\n",
        "ia = np.round(i[0][0], decimals=2)\n",
        "ib = np.round(i[1][0], decimals=2)\n",
        "ic = np.round(i[2][0], decimals=2)\n",
        "\n",
        "print('ia = ' + str(ia) + ' A')\n",
        "print('ib = ' + str(ib) + ' A')\n",
        "print('ic = ' + str(ic) + ' A')"
      ],
      "metadata": {
        "colab": {
          "base_uri": "https://localhost:8080/"
        },
        "id": "KyqiYkIq5H0Y",
        "outputId": "811e4768-cffb-482a-f4f5-13b622710173"
      },
      "execution_count": null,
      "outputs": [
        {
          "output_type": "stream",
          "name": "stdout",
          "text": [
            "ia = 1.75 A\n",
            "ib = 1.25 A\n",
            "ic = 6.75 A\n"
          ]
        }
      ]
    },
    {
      "cell_type": "markdown",
      "source": [
        "## Thévenin\n",
        "\n",
        "Curva de Potência"
      ],
      "metadata": {
        "id": "H7qWxaQOLhPC"
      }
    },
    {
      "cell_type": "code",
      "source": [
        "import numpy as np\n",
        "import matplotlib.pyplot as plt\n",
        "\n",
        "Rl = np.linspace(0, 10000, 1000)\n",
        "Vth = 10\n",
        "Rth = 2000\n",
        "p_0011 = np.ones(1000)*0.011\n",
        "\n",
        "p = (Vth/(Rth + Rl))**2 * Rl\n",
        "\n",
        "plt.plot(Rl, p)\n",
        "plt.plot(Rl, p_0011)\n",
        "plt.xlabel('Resistência de carga (Ohms)')\n",
        "plt.ylabel('Potência dissipada na carga (W)')\n",
        "plt.legend(['Vth=10V, RTh=2000Ohms','11mW level'])\n",
        "plt.grid()\n",
        "plt.show()"
      ],
      "metadata": {
        "colab": {
          "base_uri": "https://localhost:8080/",
          "height": 280
        },
        "id": "HknNtQvuLkS6",
        "outputId": "2d44baf0-c785-4a4c-bcd5-57b5548b25e7"
      },
      "execution_count": null,
      "outputs": [
        {
          "output_type": "display_data",
          "data": {
            "text/plain": [
              "<Figure size 432x288 with 1 Axes>"
            ],
            "image/png": "[encoded data removed]"
          },
          "metadata": {
            "needs_background": "light"
          }
        }
      ]
    },
    {
      "cell_type": "markdown",
      "source": [
        "## Exemplo com fonte dependente\n",
        "\n",
        "![](https://drive.google.com/uc?export=view&id=1N8pUTbkcHV8Sa5toe-Ff8cxSYe_CM7vc)\n",
        "\n",
        "Cálculo de $V_{Th}$:\n",
        "\n",
        "$\\frac{(v_1 - 6)}{5} - 1.5i_x +\\frac{v_1 - v_2}{3} = 0$\n",
        "\n",
        "$\\frac{v_2-v_1}{3} + \\frac{v_2}{4} = 0$\n",
        "\n",
        "$i_x = \\frac{v_1-v_2}{3}$\n",
        "\n",
        "Mínimo múltiplo comum,\n",
        "\n",
        "$3v_1 - 18 - 22.5i_x + 5v_1 - 5v_2 = 0$\n",
        "\n",
        "$4v_2 - 4v_1 + 3v_2 = 0$\n",
        "\n",
        "$v_1-v_2-3i_x = 0$\n",
        "\n",
        "Simplificando,\n",
        "\n",
        "$8v_1 - 5v_2 - 22.5i_x = 18$\n",
        "\n",
        "$- 4v_1 + 7v_2 = 0$\n",
        "\n",
        "$v_1 - v_2 - 3i_x = 0$\n",
        "\n",
        "\n",
        "Cálculo de $R_{Th}$:\n",
        "\n",
        "$\\frac{v_1}{5} - 1.5i_x + \\frac{v_1-v_T}{3} = 0$\n",
        "\n",
        "$\\frac{v_T-v_1}{3} + \\frac{v_T}{4} - i_T = 0$\n",
        "\n",
        "$i_x = \\frac{v_1-v_T}{3}$\n",
        "\n",
        "Mínimo múltiplo comum:\n",
        "\n",
        "$3v_1 - 22.5i_x + 5v_1-5v_T = 0$\n",
        "\n",
        "$4v_T-4v_1 + 3v_T - 12i_T = 0$\n",
        "\n",
        "$3i_x = v_1-v_T$\n",
        "\n",
        "Ajuste $v_T=1V$:\n",
        "\n",
        "$8v_1 - 22.5i_x + 0i_T = 5$\n",
        "\n",
        "$-4v_1 + 0i_x - 12i_T = -7$\n",
        "\n",
        "$v_1 - 3i_x + 0i_T = 1$"
      ],
      "metadata": {
        "id": "bBJNDXtASLgV"
      }
    },
    {
      "cell_type": "code",
      "source": [
        "import numpy as np\n",
        "\n",
        "A = np.array([[8, -5, -22.5],[-4, 7, 0],[1, -1, -3]])\n",
        "b = np.array([[18],[0],[0]])\n",
        "\n",
        "x = np.matmul(np.linalg.inv(A),b)\n",
        "\n",
        "VTh = np.round(x[1][0], decimals=2)\n",
        "\n",
        "print('VTh = ' + str(VTh) + ' V')\n",
        "\n",
        "C = np.array([[8, -22.5, 0],[-4, 0, -12],[1, -3, 0]])\n",
        "d = np.array([[5],[-7],[1]])\n",
        "\n",
        "y = np.matmul(np.linalg.inv(C),d)\n",
        "\n",
        "y[2][0]"
      ],
      "metadata": {
        "colab": {
          "base_uri": "https://localhost:8080/"
        },
        "id": "i8OiiKJEWKix",
        "outputId": "cd442fcd-ccc1-4375-feab-0020de88667c"
      },
      "execution_count": null,
      "outputs": [
        {
          "output_type": "stream",
          "name": "stdout",
          "text": [
            "VTh = 5.33 V\n"
          ]
        },
        {
          "output_type": "execute_result",
          "data": {
            "text/plain": [
              "2.25"
            ]
          },
          "metadata": {},
          "execution_count": 10
        }
      ]
    },
    {
      "cell_type": "markdown",
      "source": [
        "## Superposição\n",
        "\n",
        "Seja $b=b'+b''$.\n",
        "\n",
        "Se\n",
        "\n",
        "$Av' = b'$\n",
        "\n",
        "e\n",
        "\n",
        "$Av'' = b''$\n",
        "\n",
        "então\n",
        "\n",
        "$Av'+Av'' = b'+b''=b$\n",
        "\n",
        "$A(v'+v'')=b$\n",
        "\n",
        "Finalmente,\n",
        "\n",
        "$v = v'+v''$"
      ],
      "metadata": {
        "id": "A6iVrFLnKZon"
      }
    },
    {
      "cell_type": "code",
      "source": [
        "import numpy as np\n",
        "\n",
        "A = np.array([[6, -3],[-2, 3]])\n",
        "b = np.array([[120],[-48]])\n",
        "\n",
        "v = np.round(np.matmul(np.linalg.inv(A), b), decimals=2)\n",
        "\n",
        "i1 = np.round((120-v[0][0])/6, decimals=2)\n",
        "i2 = np.round((v[0][0])/3, decimals=2)\n",
        "i3 = np.round((v[0][0]-v[1][0])/2, decimals=2)\n",
        "i4 = np.round((v[1][0])/4, decimals=2)\n",
        "\n",
        "print('i1 = '+str(i1)+' A')\n",
        "print('i2 = '+str(i2)+' A')\n",
        "print('i3 = '+str(i3)+' A')\n",
        "print('i4 = '+str(i4)+' A')"
      ],
      "metadata": {
        "colab": {
          "base_uri": "https://localhost:8080/"
        },
        "id": "-3peGyH3KbtH",
        "outputId": "589c7f1e-85d1-42e1-f3e3-226a34a1c6ec"
      },
      "execution_count": null,
      "outputs": [
        {
          "output_type": "stream",
          "name": "stdout",
          "text": [
            "i1 = 17.0 A\n",
            "i2 = 6.0 A\n",
            "i3 = 11.0 A\n",
            "i4 = -1.0 A\n"
          ]
        }
      ]
    },
    {
      "cell_type": "markdown",
      "source": [
        "## Exemplo 1.7\n",
        "\n",
        "$i(t) = 0, t < 0$\n",
        "\n",
        "$i(t) = 10t^2, t \\geq 0$\n",
        "\n",
        "$v_L = L \\frac{di_L}{dt}$"
      ],
      "metadata": {
        "id": "RlWlOZYfPOo5"
      }
    },
    {
      "cell_type": "code",
      "source": [
        "import numpy as np\n",
        "import matplotlib.pyplot as plt\n",
        "\n",
        "\n",
        "L = 100e-6\n",
        "\n",
        "t = np.linspace(0, 1, 1000)\n",
        "i = 10*(t**2)\n",
        "vl = L*np.multiply(np.diff(i), np.reciprocal(np.diff(t)))\n",
        "\n",
        "\n",
        "plt.plot(t,i)\n",
        "plt.xlabel('Tempo (s)')\n",
        "plt.ylabel('Corrente (A)')\n",
        "plt.legend(['Corrente no indutor'])\n",
        "plt.grid()\n",
        "plt.show()\n",
        "\n",
        "plt.plot(t[:999],vl)\n",
        "plt.xlabel('Tempo (s)')\n",
        "plt.ylabel('Tensão (V)')\n",
        "plt.legend(['Tensão no indutor'])\n",
        "plt.grid()\n",
        "plt.show()\n"
      ],
      "metadata": {
        "colab": {
          "base_uri": "https://localhost:8080/",
          "height": 541
        },
        "id": "vtxHJ25MPrx9",
        "outputId": "2c029e62-8811-47da-9474-35d7d331bea5"
      },
      "execution_count": null,
      "outputs": [
        {
          "output_type": "display_data",
          "data": {
            "text/plain": [
              "<Figure size 432x288 with 1 Axes>"
            ],
            "image/png": "[encoded data removed]"
          },
          "metadata": {
            "needs_background": "light"
          }
        },
        {
          "output_type": "display_data",
          "data": {
            "text/plain": [
              "<Figure size 432x288 with 1 Axes>"
            ],
            "image/png": "[encoded data removed]"
          },
          "metadata": {
            "needs_background": "light"
          }
        }
      ]
    },
    {
      "cell_type": "markdown",
      "source": [
        "## Exercício 1.7\n",
        "\n",
        "$i(t) = 10te^{-5t}, t>0$\n",
        "\n",
        "$L=100mH$"
      ],
      "metadata": {
        "id": "Yy8LAEjp8Kb1"
      }
    },
    {
      "cell_type": "code",
      "source": [
        "import numpy as np\n",
        "import matplotlib.pyplot as plt\n",
        "\n",
        "L = 100e-3\n",
        "\n",
        "t = np.linspace(0, 1, 1000)\n",
        "i = 10*t*np.exp(-5*t)\n",
        "vl = L*np.multiply(np.diff(i), np.reciprocal(np.diff(t)))\n",
        "\n",
        "plt.plot(t,i)\n",
        "plt.xlabel('Tempo (s)')\n",
        "plt.ylabel('Corrente (A)')\n",
        "plt.legend(['Corrente no indutor'])\n",
        "plt.grid()\n",
        "plt.show()\n",
        "\n",
        "plt.plot(t[:999],vl)\n",
        "plt.xlabel('Tempo (s)')\n",
        "plt.ylabel('Tensão (V)')\n",
        "plt.legend(['Tensão no indutor'])\n",
        "plt.grid()\n",
        "plt.show()"
      ],
      "metadata": {
        "colab": {
          "base_uri": "https://localhost:8080/",
          "height": 541
        },
        "id": "EPUGTUPC8WA2",
        "outputId": "2c96c5db-4719-4d86-a19e-af6cf427589f"
      },
      "execution_count": null,
      "outputs": [
        {
          "output_type": "display_data",
          "data": {
            "text/plain": [
              "<Figure size 432x288 with 1 Axes>"
            ],
            "image/png": "[encoded data removed]"
          },
          "metadata": {
            "needs_background": "light"
          }
        },
        {
          "output_type": "display_data",
          "data": {
            "text/plain": [
              "<Figure size 432x288 with 1 Axes>"
            ],
            "image/png": "[encoded data removed]"
          },
          "metadata": {
            "needs_background": "light"
          }
        }
      ]
    },
    {
      "cell_type": "markdown",
      "source": [
        "## Exemplo 1.8\n",
        "\n",
        "$v(t) = 4t, 0 < t < 1$\n",
        "\n",
        "$v(t) = 8-4t, t\\geq1$\n",
        "\n",
        "$C = 0.5\\mu F$"
      ],
      "metadata": {
        "id": "t7zxwRTt9TYi"
      }
    },
    {
      "cell_type": "code",
      "source": [
        "import numpy as np\n",
        "import matplotlib.pyplot as plt\n",
        "\n",
        "C = 0.5e-6\n",
        "\n",
        "Npts = 1000\n",
        "\n",
        "t = np.linspace(0, 3, Npts)\n",
        "v = np.zeros(1000)\n",
        "\n",
        "for i in range(Npts):\n",
        "  if t[i] < 1:\n",
        "    v[i] = 4*t[i]\n",
        "  else:\n",
        "    v[i] = 8 - 4*t[i]\n",
        "\n",
        "ic = C*np.multiply(np.diff(v), np.reciprocal(np.diff(t)))\n",
        "\n",
        "\n",
        "plt.plot(t,v)\n",
        "plt.xlabel('Tempo (s)')\n",
        "plt.ylabel('Tensão (V)')\n",
        "plt.legend(['Tensão no capacitor'])\n",
        "plt.grid()\n",
        "plt.show()\n",
        "\n",
        "plt.plot(t[:999],ic)\n",
        "plt.xlabel('Tempo (s)')\n",
        "plt.ylabel('Corrente (A)')\n",
        "plt.legend(['Corrente no capacitor'])\n",
        "plt.grid()\n",
        "plt.show()"
      ],
      "metadata": {
        "colab": {
          "base_uri": "https://localhost:8080/",
          "height": 552
        },
        "id": "qPlLf6oJ97nT",
        "outputId": "71a9498f-9564-4972-885e-e5d7cce9b591"
      },
      "execution_count": null,
      "outputs": [
        {
          "output_type": "display_data",
          "data": {
            "text/plain": [
              "<Figure size 432x288 with 1 Axes>"
            ],
            "image/png": "[encoded data removed]"
          },
          "metadata": {
            "needs_background": "light"
          }
        },
        {
          "output_type": "display_data",
          "data": {
            "text/plain": [
              "<Figure size 432x288 with 1 Axes>"
            ],
            "image/png": "[encoded data removed]"
          },
          "metadata": {
            "needs_background": "light"
          }
        }
      ]
    },
    {
      "cell_type": "markdown",
      "source": [
        "## Exercício 1.8\n",
        "\n",
        "$v(t) = 0, t < 0$\n",
        "\n",
        "$v(t) = 4t, 0 \\leq t < 1$\n",
        "\n",
        "$v(t) = 4te^{-(t-1)}, t \\geq 1$\n",
        "\n",
        "$C = 0.5 \\mu F$"
      ],
      "metadata": {
        "id": "ZYdIFoYWAZ3p"
      }
    },
    {
      "cell_type": "code",
      "source": [
        "import numpy as np\n",
        "import matplotlib.pyplot as plt\n",
        "\n",
        "C = 0.5e-6\n",
        "\n",
        "Npts = 1000\n",
        "\n",
        "t = np.linspace(0, 3, Npts)\n",
        "v = np.zeros(1000)\n",
        "\n",
        "for i in range(Npts):\n",
        "  if t[i] < 1:\n",
        "    v[i] = 4*t[i]\n",
        "  else:\n",
        "    v[i] = 4*t[i]*np.exp(-(t[i]-1))\n",
        "\n",
        "ic = C*np.multiply(np.diff(v), np.reciprocal(np.diff(t)))\n",
        "\n",
        "\n",
        "plt.plot(t,v)\n",
        "plt.xlabel('Tempo (s)')\n",
        "plt.ylabel('Tensão (V)')\n",
        "plt.legend(['Tensão no capacitor'])\n",
        "plt.grid()\n",
        "plt.show()\n",
        "\n",
        "plt.plot(t[:999],ic)\n",
        "plt.xlabel('Tempo (s)')\n",
        "plt.ylabel('Corrente (A)')\n",
        "plt.legend(['Corrente no capacitor'])\n",
        "plt.grid()\n",
        "plt.show()"
      ],
      "metadata": {
        "colab": {
          "base_uri": "https://localhost:8080/",
          "height": 552
        },
        "id": "LZMQJDZtAxuy",
        "outputId": "0c3697ef-6a22-4eed-cfbe-6a0b024c0171"
      },
      "execution_count": null,
      "outputs": [
        {
          "output_type": "display_data",
          "data": {
            "text/plain": [
              "<Figure size 432x288 with 1 Axes>"
            ],
            "image/png": "[encoded data removed]"
          },
          "metadata": {
            "needs_background": "light"
          }
        },
        {
          "output_type": "display_data",
          "data": {
            "text/plain": [
              "<Figure size 432x288 with 1 Axes>"
            ],
            "image/png": "[encoded data removed]"
          },
          "metadata": {
            "needs_background": "light"
          }
        }
      ]
    },
    {
      "cell_type": "markdown",
      "source": [
        "## Resposta Natural de um Circuito RL\n",
        "\n",
        "$L\\frac{di}{dt}+Ri = 0$\n",
        "\n",
        "$i(0) = I_0$\n",
        "\n",
        "Equacação diferencial de primeira ordem, separável\n",
        "\n",
        "$\\frac{di}{i} = -\\frac{dt}{L/R}$\n",
        "\n",
        "Variáveis auxiliares são utilizadas para não confundir com os limites de integração\n",
        "\n",
        "$\\int_{i(0)}^{i(t)}\\frac{di^*}{i^*} = -\\int_{0}^{t}\\frac{dt^*}{L/R}$\n",
        "\n",
        "$ln(i(t)) - ln(I_0) = -\\frac{t}{L/R}$\n",
        "\n",
        "$\\frac{i(t)}{I_0} = e^{-\\frac{t}{L/R}} \\rightarrow i(t) = I_0e^{-\\frac{t}{L/R}}$\n",
        "\n",
        "Corrente\n",
        "\n",
        "$i(t) = I_0e^{-\\frac{t}{L/R}}$\n",
        "\n",
        "Tensão\n",
        "\n",
        "$v(t) = RI_0e^{-\\frac{t}{L/R}}$\n",
        "\n",
        "Potência do indutor\n",
        "\n",
        "$p_L(t) = -v(t)i(t) = -RI_0I_0(e^{-\\frac{t}{L/R}})^2$\n",
        "\n",
        "$p_L(t) = -RI_0^2e^{-\\frac{t}{L/2R}}$\n",
        "\n",
        "Energia do indutor\n",
        "\n",
        "$W_L(t) = \\int_{-\\infty}^tp_L(t^*)dt^* = \\frac{1}{2}LI_0^2 + \\int_{0}^tp_L(t^*)dt^*$\n",
        "\n",
        "$W_L(t) = -RI_0^2{\\frac{e^{-\\frac{t^*}{L/2R}}}{-\\frac{1}{L/2R}}}|_{t^*=0}^{t^*=t}$\n",
        "\n",
        "$W_L(t) = \\frac{1}{2}LI_0^2 + \\frac{1}{2}LI_0^2(e^{-\\frac{t}{L/2R}}-1)$\n",
        "\n",
        "$W_L(t) = \\frac{1}{2}LI_0^2e^{-\\frac{t}{L/2R}}$\n",
        "\n",
        "Potência do resistor\n",
        "\n",
        "$p_R(t) = RI_0^2e^{-\\frac{t}{L/2R}}$\n",
        "\n",
        "Energia dissipada no resistor\n",
        "\n",
        "$W_R(t) = \\frac{1}{2}LI_0^2(e^{-\\frac{t}{L/2R}}-1)$"
      ],
      "metadata": {
        "id": "3N4SZAUubkwh"
      }
    },
    {
      "cell_type": "markdown",
      "source": [
        "## Exemplo 1.9\n",
        "\n",
        "RL Natural"
      ],
      "metadata": {
        "id": "HT2O8PtwURQy"
      }
    },
    {
      "cell_type": "code",
      "source": [
        "import numpy as np\n",
        "import matplotlib.pyplot as plt\n",
        "\n",
        "L = 2\n",
        "R = 10\n",
        "I0 = 20\n",
        "Npts = 1000\n",
        "t = np.linspace(0, 10*L/R, Npts)\n",
        "\n",
        "iL = I0*np.exp(-t/(L/R))\n",
        "v0 = -8*iL\n",
        "i0 = -10/50 * (iL)\n",
        "\n",
        "plt.plot(t,iL)\n",
        "plt.plot(t,i0)\n",
        "plt.xlabel('Tempo (s)')\n",
        "plt.ylabel('Corrente (A)')\n",
        "plt.legend(['Corrente do indutor','Corrente i0'])\n",
        "plt.grid()\n",
        "plt.show()\n",
        "\n",
        "plt.plot(t,v0)\n",
        "plt.xlabel('Tempo (s)')\n",
        "plt.ylabel('Tensão (V)')\n",
        "plt.legend(['Tensão v0'])\n",
        "plt.grid()\n",
        "plt.show()"
      ],
      "metadata": {
        "id": "eIiDh6OXeEKb",
        "colab": {
          "base_uri": "https://localhost:8080/",
          "height": 541
        },
        "outputId": "f39be32d-1aec-4715-9155-864052ee2e1c"
      },
      "execution_count": null,
      "outputs": [
        {
          "output_type": "display_data",
          "data": {
            "text/plain": [
              "<Figure size 432x288 with 1 Axes>"
            ],
            "image/png": "[encoded data removed]"
          },
          "metadata": {
            "needs_background": "light"
          }
        },
        {
          "output_type": "display_data",
          "data": {
            "text/plain": [
              "<Figure size 432x288 with 1 Axes>"
            ],
            "image/png": "[encoded data removed]"
          },
          "metadata": {
            "needs_background": "light"
          }
        }
      ]
    },
    {
      "cell_type": "markdown",
      "source": [
        "## Exercício 1.9\n",
        "\n",
        "RL Natural"
      ],
      "metadata": {
        "id": "DTII4pCNVXbY"
      }
    },
    {
      "cell_type": "code",
      "source": [
        "import numpy as np\n",
        "import matplotlib.pyplot as plt\n",
        "\n",
        "L = 4\n",
        "R = 100\n",
        "I0 = 125/25\n",
        "Npts = 1000\n",
        "t = np.linspace(0, 10*L/R, Npts)\n",
        "\n",
        "iL = I0*np.exp(-t/(L/R))\n",
        "v1 = -80*iL\n",
        "v2 = -100*iL\n",
        "\n",
        "plt.plot(t,iL)\n",
        "plt.xlabel('Tempo (s)')\n",
        "plt.ylabel('Corrente (A)')\n",
        "plt.legend(['Corrente do indutor'])\n",
        "plt.grid()\n",
        "plt.show()\n",
        "\n",
        "plt.plot(t,v1)\n",
        "plt.plot(t,v2)\n",
        "plt.xlabel('Tempo (s)')\n",
        "plt.ylabel('Tensão (V)')\n",
        "plt.legend(['Tensão v1','Tensão v2'])\n",
        "plt.grid()\n",
        "plt.show()"
      ],
      "metadata": {
        "colab": {
          "base_uri": "https://localhost:8080/",
          "height": 541
        },
        "id": "sNydA-VgVb47",
        "outputId": "d44f489d-b918-485b-93da-6eebfb9eeed8"
      },
      "execution_count": null,
      "outputs": [
        {
          "output_type": "display_data",
          "data": {
            "text/plain": [
              "<Figure size 432x288 with 1 Axes>"
            ],
            "image/png": "[encoded data removed]"
          },
          "metadata": {
            "needs_background": "light"
          }
        },
        {
          "output_type": "display_data",
          "data": {
            "text/plain": [
              "<Figure size 432x288 with 1 Axes>"
            ],
            "image/png": "[encoded data removed]"
          },
          "metadata": {
            "needs_background": "light"
          }
        }
      ]
    },
    {
      "cell_type": "markdown",
      "source": [
        "## RL Degrau\n",
        "\n",
        "$-V_S + Ri + L\\frac{di}{dt} = 0$\n",
        "\n",
        "$Ri + L\\frac{di}{dt} = V_S$\n",
        "\n",
        "$L\\frac{di}{dt} = -(Ri - V_S)$\n",
        "\n",
        "$\\frac{di}{(Ri - V_S)} = -\\frac{dt}{L}$\n",
        "\n",
        "$\\frac{di}{(i - V_S/R)} = -\\frac{dt}{L/R}$\n",
        "\n",
        "$ln|i(t) - V_S/R| - ln|I_0 - V_S/R| = -\\frac{t}{L/R}$\n",
        "\n",
        "$ln\\frac{|i(t) - V_S/R|}{|I_0 - V_S/R|} = -\\frac{t}{L/R}$\n",
        "\n",
        "$\\frac{i(t) - V_S/R}{I_0 - V_S/R} = e^{-\\frac{t}{L/R}}$\n",
        "\n",
        "$i(t) = V_S/R + (I_0 - V_S/R)e^{-\\frac{t}{L/R}}$\n",
        "\n"
      ],
      "metadata": {
        "id": "JUV5VCI47FCK"
      }
    },
    {
      "cell_type": "code",
      "source": [
        "import numpy as np\n",
        "import pandas as pd \n",
        "import matplotlib.pyplot as plt\n",
        "\n",
        "\n",
        "from google.colab import drive \n",
        "drive.mount('/content/gdrive')\n",
        "\n",
        "df=pd.read_csv('gdrive/My Drive/RC_teste.CSV')\n",
        "\n",
        "EXP_RESULTS = df.to_numpy()\n",
        "\n",
        "t = EXP_RESULTS[:2000,0]\n",
        "V0 = 6\n",
        "R = 10e3\n",
        "C = 100e-6\n",
        "x_theory = V0*np.exp(-(t-1)/(R*C))\n",
        "\n",
        "plt.plot(EXP_RESULTS[:2000,0], EXP_RESULTS[:2000,1])\n",
        "plt.plot(t, x_theory)\n",
        "plt.xlabel('Tempo (s)')\n",
        "plt.ylabel('Tensão (V)')\n",
        "plt.grid()\n",
        "plt.show()"
      ],
      "metadata": {
        "colab": {
          "base_uri": "https://localhost:8080/",
          "height": 296
        },
        "id": "jPoL5XUDpEBX",
        "outputId": "b8d2cf2d-79a7-4490-ecc1-c2a01b2d7f08"
      },
      "execution_count": null,
      "outputs": [
        {
          "output_type": "stream",
          "name": "stdout",
          "text": [
            "Drive already mounted at /content/gdrive; to attempt to forcibly remount, call drive.mount(\"/content/gdrive\", force_remount=True).\n"
          ]
        },
        {
          "output_type": "display_data",
          "data": {
            "text/plain": [
              "<Figure size 432x288 with 1 Axes>"
            ],
            "image/png": "[encoded data removed]"
          },
          "metadata": {
            "needs_background": "light"
          }
        }
      ]
    },
    {
      "cell_type": "markdown",
      "source": [
        "## Exemplo 2.1\n",
        "\n",
        "$Z_r = R = 90$\n",
        "\n",
        "$Z_l = j\\omega L = j \\cdot 5000 \\cdot 32mH = j160 Ω$\n",
        "\n",
        "$Z_c = \\frac{1}{j\\omega C} = \\frac{1}{j \\cdot 5000 \\cdot 5\\mu F}  = -j40 \\Omega$\n",
        "\n",
        "$Z_{eq} = Z_r + Z_l + Z_c = 90 + j120 \\Omega $  (a impedância equivalente é indutiva)\n",
        "\n",
        "$V_s = \\frac{1061}{\\sqrt{2}} \\cdot e^{\\frac{j30}{180 π}}$\n",
        "\n",
        "$I_s = \\frac{V_s}{Z_{eq}}$\n"
      ],
      "metadata": {
        "id": "IV54sluyX8Jo"
      }
    },
    {
      "cell_type": "code",
      "source": [
        "import numpy as np\n",
        "\n",
        "w = 5000\n",
        "L = 32e-3\n",
        "C = 5e-6\n",
        "\n",
        "Zr = 90\n",
        "Zl = w*L*1j\n",
        "Zc = 1/(w*C*1j)\n",
        "\n",
        "Zeq = Zr + Zl + Zc\n",
        "print('Zeq = ' + str(Zeq) + ' \\u03A9')\n",
        "print()\n",
        "\n",
        "Vs = np.round((1061/np.sqrt(2)) * (np.exp((30*1j*np.pi) / (180))), decimals=2)\n",
        "print('Vs = ' + str(Vs) + ' V')\n",
        "print('Vs = ' + str(np.round(np.abs(Vs), decimals=2)) + '<' + str(np.round(np.angle(Vs)/np.pi*180, decimals=2)) + '\\u00b0 V')\n",
        "print()\n",
        "\n",
        "Is = np.round(Vs / Zeq, decimals=2)\n",
        "print('Is = ' + str(Is) + ' A')\n",
        "print('Is = ' + str(np.round(np.abs(Is), decimals=2)) + '<' + str(np.round(np.angle(Is)/np.pi*180, decimals=2)) + '\\u00b0 A')\n",
        "\n",
        "print('i(t) = ' + str(np.round(np.abs(Is)*np.sqrt(2), decimals=2)) + 'cos(' + str(w) + 't ' + str(np.round(np.angle(Is)/np.pi*180, decimals=2)) + '\\u00b0) A')"
      ],
      "metadata": {
        "colab": {
          "base_uri": "https://localhost:8080/"
        },
        "id": "e1mx9MoIZbw4",
        "outputId": "ecc9354a-3089-4ae6-c723-85de73e6d502"
      },
      "execution_count": null,
      "outputs": [
        {
          "output_type": "stream",
          "name": "stdout",
          "text": [
            "Zeq = (90+120j) Ω\n",
            "\n",
            "Vs = (649.73+375.12j) V\n",
            "Vs = 750.24<30.0° V\n",
            "\n",
            "Is = (4.6-1.96j) A\n",
            "Is = 5.0<-23.08° A\n",
            "i(t) = 7.07cos(5000t -23.08°) A\n"
          ]
        }
      ]
    },
    {
      "cell_type": "markdown",
      "source": [
        "## Exercício 2.1\n",
        "\n",
        "$Z_r = R = 50 \\Omega$\n",
        "\n",
        "$Z_l = j ω L = j 2π 1000 \\cdot 100 \\cdot 10^{-6} = j \\cdot 0.6283 Ω$\n",
        "\n",
        "$Z_c = -j \\frac{1}{ωC} = -j \\cdot 159.15 Ω$\n",
        "\n",
        "$Z_{rs} = 10 Ω$\n",
        "\n",
        "$V = \\frac{10}{\\sqrt{2}}  V_{rms}$\n"
      ],
      "metadata": {
        "id": "5j_ErAJ4kyvb"
      }
    },
    {
      "cell_type": "code",
      "source": [
        "import numpy as np\n",
        "\n",
        "w = 2*np.pi*1000\n",
        "L = 100e-6\n",
        "C = 1e-6\n",
        "\n",
        "Zr = 50\n",
        "Zl = w*L*1j\n",
        "Zc = -((1)/(w*C))*1j\n",
        "Zrs = 10\n",
        "Vs = 10/np.sqrt(2)\n",
        "\n",
        "Vger = np.round(((Zl + Zc + Zrs)/(Zr + Zl + Zc + Zrs)) * Vs, decimals=5)\n",
        "Vosc = np.round(((Zrs)/(Zr + Zl + Zc + Zrs)) * Vs, decimals=5)\n",
        "\n",
        "print('Vosc = ' + str(Vosc) + ' V')\n",
        "print('Vosc = ' + str(np.round(np.abs(Vosc), decimals=5)) + '<' + str(np.round(np.angle(Vosc)/np.pi*180, decimals=5)) + '\\u00b0 V')\n",
        "print()\n",
        "\n",
        "print('Vger = ' + str(Vger) + ' V')\n",
        "print('Vger = ' + str(np.round(np.abs(Vger), decimals=2)) + '<' + str(np.round(np.angle(Vger)/np.pi*180, decimals=2)) + '\\u00b0 V')\n",
        "print()"
      ],
      "metadata": {
        "colab": {
          "base_uri": "https://localhost:8080/"
        },
        "id": "AH382Hikk8bP",
        "outputId": "1e48a1ef-48cd-4e5e-e964-9eb78c11911b"
      },
      "execution_count": null,
      "outputs": [
        {
          "output_type": "stream",
          "name": "stdout",
          "text": [
            "Vosc = (0.14767+0.39016j) V\n",
            "Vosc = 0.41717<69.26906° V\n",
            "\n",
            "Vger = (6.33272-1.95079j) V\n",
            "Vger = 6.63<-17.12° V\n",
            "\n"
          ]
        }
      ]
    },
    {
      "cell_type": "code",
      "source": [
        "import numpy as np\n",
        "\n",
        "RL1 = 100\n",
        "VL1 = 1.09\n",
        "RL2 = 3300\n",
        "VL2 = 9.21\n",
        "\n",
        "A = np.array([[RL1, -VL1],[RL2, -VL2]])\n",
        "b = np.array([[RL1*VL1],[RL2*VL2]])\n",
        "\n",
        "x = np.round(np.matmul(np.linalg.inv(A),b), decimals=2)\n",
        "\n",
        "VTh = x[0][0]\n",
        "RTh = x[1][0]\n",
        "\n",
        "print('VTh = ' + str(VTh) + ' V')\n",
        "print('RTh = ' + str(RTh) + ' \\u03A9')\n"
      ],
      "metadata": {
        "colab": {
          "base_uri": "https://localhost:8080/"
        },
        "id": "Hxa7qxHGfT7D",
        "outputId": "d9f71f1c-b60e-43f1-9225-b1ea709b5fab"
      },
      "execution_count": null,
      "outputs": [
        {
          "output_type": "stream",
          "name": "stdout",
          "text": [
            "VTh = 12.0 V\n",
            "RTh = 1001.35 Ω\n"
          ]
        }
      ]
    },
    {
      "cell_type": "markdown",
      "source": [
        "## Exercício 2.3\n",
        "\n",
        "Determine $V_0$"
      ],
      "metadata": {
        "id": "0-49G7m3YNQp"
      }
    },
    {
      "cell_type": "code",
      "source": [
        "import numpy as np\n",
        "\n",
        "f=1\n",
        "w=2*np.pi*f\n",
        "\n",
        "Vs = 100\n",
        "\n",
        "L1 = 6.3664\n",
        "R1 = 40\n",
        "R2 = 60\n",
        "L2 = 3.1832\n",
        "\n",
        "Zl1 = 1j*w*L1\n",
        "Zr1 = R1\n",
        "Zl2 = 1j*w*L2\n",
        "Zr2 = R2\n",
        "\n",
        "\n",
        "Zaux = 1/((1/Zr1) + (1/(Zr2+Zl2)))\n",
        "Vaux = Vs * (Zaux)/(Zaux+Zl1)\n",
        "\n",
        "Vo = Vaux * (Zl2) / (Zl2 + Zr2)\n",
        "\n",
        "print('Vo = ' + str(Vo) + ' V')\n",
        "print('Vo = ' + str(np.round(np.abs(Vo), decimals=2)) + '<' + str(np.round(np.angle(Vo)/np.pi*180, decimals=2)) + '\\u00b0 V')\n",
        "print()"
      ],
      "metadata": {
        "colab": {
          "base_uri": "https://localhost:8080/"
        },
        "id": "uNfCIWlFYT15",
        "outputId": "abc686d1-25dd-4d71-b3fb-7cceb20623de"
      },
      "execution_count": null,
      "outputs": [
        {
          "output_type": "stream",
          "name": "stdout",
          "text": [
            "Vo = (15.00019063276702+4.999745812882115j) V\n",
            "Vo = 15.81<18.43° V\n",
            "\n"
          ]
        }
      ]
    },
    {
      "cell_type": "markdown",
      "source": [
        "## Exercício 2.4\n",
        "\n",
        "$\\frac{V - (1+j)}{1+j} + \\frac{V}{j} + \\frac{V-(-1-j)}{1+j} = 0$\n",
        "\n",
        "$\\frac{V}{1+j} - \\frac{1+j}{1+j} + \\frac{V}{j} + \\frac{V}{1+j} + \\frac{1+j}{1+j} = 0$\n",
        "\n",
        "$\\frac{V}{1+j} + \\frac{V}{j} + \\frac{V}{1+j} = 0$\n",
        "\n",
        "$V = 0$"
      ],
      "metadata": {
        "id": "W_DTuo39aSVb"
      }
    },
    {
      "cell_type": "markdown",
      "source": [],
      "metadata": {
        "id": "Brh2FpKxa6w4"
      }
    }
  ]
}